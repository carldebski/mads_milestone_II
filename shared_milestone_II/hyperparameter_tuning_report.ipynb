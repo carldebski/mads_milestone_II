{
 "cells": [
  {
   "cell_type": "code",
   "execution_count": 25,
   "id": "ef67ea1b",
   "metadata": {},
   "outputs": [
    {
     "name": "stdout",
     "output_type": "stream",
     "text": [
      "Collecting en-core-web-sm@ https://github.com/explosion/spacy-models/releases/download/en_core_web_sm-3.7.1/en_core_web_sm-3.7.1-py3-none-any.whl#sha256=86cc141f63942d4b2c5fcee06630fd6f904788d2f0ab005cce45aadb8fb73889 (from -r ../koigawa_milestone_II/requirements.txt (line 18))\n",
      "  Downloading https://github.com/explosion/spacy-models/releases/download/en_core_web_sm-3.7.1/en_core_web_sm-3.7.1-py3-none-any.whl (12.8 MB)\n",
      "\u001b[2K     \u001b[90m━━━━━━━━━━━━━━━━━━━━━━━━━━━━━━━━━━━━━━━━\u001b[0m \u001b[32m12.8/12.8 MB\u001b[0m \u001b[31m64.1 MB/s\u001b[0m eta \u001b[36m0:00:00\u001b[0m00:01\u001b[0m0:01\u001b[0m\n",
      "\u001b[?25hRequirement already satisfied: altair==5.0.1 in /opt/homebrew/lib/python3.11/site-packages (from -r ../koigawa_milestone_II/requirements.txt (line 1)) (5.0.1)\n",
      "Requirement already satisfied: astroid==3.1.0 in /opt/homebrew/lib/python3.11/site-packages (from -r ../koigawa_milestone_II/requirements.txt (line 2)) (3.1.0)\n",
      "Requirement already satisfied: attrs==23.1.0 in /opt/homebrew/lib/python3.11/site-packages (from -r ../koigawa_milestone_II/requirements.txt (line 3)) (23.1.0)\n",
      "Requirement already satisfied: autopep8==2.0.4 in /opt/homebrew/lib/python3.11/site-packages (from -r ../koigawa_milestone_II/requirements.txt (line 4)) (2.0.4)\n",
      "Requirement already satisfied: beautifulsoup4==4.12.3 in /opt/homebrew/lib/python3.11/site-packages (from -r ../koigawa_milestone_II/requirements.txt (line 5)) (4.12.3)\n",
      "Requirement already satisfied: blis==0.7.9 in /opt/homebrew/lib/python3.11/site-packages (from -r ../koigawa_milestone_II/requirements.txt (line 6)) (0.7.9)\n",
      "Requirement already satisfied: catalogue==2.0.8 in /opt/homebrew/lib/python3.11/site-packages (from -r ../koigawa_milestone_II/requirements.txt (line 7)) (2.0.8)\n",
      "Requirement already satisfied: certifi==2023.5.7 in /opt/homebrew/lib/python3.11/site-packages (from -r ../koigawa_milestone_II/requirements.txt (line 8)) (2023.5.7)\n",
      "Requirement already satisfied: charset-normalizer==3.1.0 in /opt/homebrew/lib/python3.11/site-packages (from -r ../koigawa_milestone_II/requirements.txt (line 9)) (3.1.0)\n",
      "Requirement already satisfied: click==8.1.3 in /opt/homebrew/lib/python3.11/site-packages (from -r ../koigawa_milestone_II/requirements.txt (line 10)) (8.1.3)\n",
      "Requirement already satisfied: cloudpathlib==0.16.0 in /opt/homebrew/lib/python3.11/site-packages (from -r ../koigawa_milestone_II/requirements.txt (line 11)) (0.16.0)\n",
      "Requirement already satisfied: confection==0.1.0 in /opt/homebrew/lib/python3.11/site-packages (from -r ../koigawa_milestone_II/requirements.txt (line 12)) (0.1.0)\n",
      "Requirement already satisfied: contourpy==1.1.0 in /opt/homebrew/lib/python3.11/site-packages (from -r ../koigawa_milestone_II/requirements.txt (line 13)) (1.1.0)\n",
      "Requirement already satisfied: cycler==0.11.0 in /opt/homebrew/lib/python3.11/site-packages (from -r ../koigawa_milestone_II/requirements.txt (line 14)) (0.11.0)\n",
      "Requirement already satisfied: cymem==2.0.7 in /opt/homebrew/lib/python3.11/site-packages (from -r ../koigawa_milestone_II/requirements.txt (line 15)) (2.0.7)\n",
      "Requirement already satisfied: dill==0.3.8 in /opt/homebrew/lib/python3.11/site-packages (from -r ../koigawa_milestone_II/requirements.txt (line 16)) (0.3.8)\n",
      "Requirement already satisfied: distlib==0.3.8 in /opt/homebrew/lib/python3.11/site-packages (from -r ../koigawa_milestone_II/requirements.txt (line 17)) (0.3.8)\n",
      "Requirement already satisfied: filelock==3.13.0 in /opt/homebrew/lib/python3.11/site-packages (from -r ../koigawa_milestone_II/requirements.txt (line 19)) (3.13.0)\n",
      "Requirement already satisfied: fonttools==4.40.0 in /opt/homebrew/lib/python3.11/site-packages (from -r ../koigawa_milestone_II/requirements.txt (line 20)) (4.40.0)\n",
      "Requirement already satisfied: frozendict==2.4.4 in /opt/homebrew/lib/python3.11/site-packages (from -r ../koigawa_milestone_II/requirements.txt (line 21)) (2.4.4)\n",
      "Requirement already satisfied: fsspec==2023.10.0 in /opt/homebrew/lib/python3.11/site-packages (from -r ../koigawa_milestone_II/requirements.txt (line 22)) (2023.10.0)\n",
      "Requirement already satisfied: GDAL==3.7.1 in /opt/homebrew/lib/python3.11/site-packages (from -r ../koigawa_milestone_II/requirements.txt (line 23)) (3.7.1)\n",
      "Requirement already satisfied: gensim==4.3.2 in /opt/homebrew/lib/python3.11/site-packages (from -r ../koigawa_milestone_II/requirements.txt (line 24)) (4.3.2)\n",
      "Requirement already satisfied: html5lib==1.1 in /opt/homebrew/lib/python3.11/site-packages (from -r ../koigawa_milestone_II/requirements.txt (line 25)) (1.1)\n",
      "Requirement already satisfied: idna==3.4 in /opt/homebrew/lib/python3.11/site-packages (from -r ../koigawa_milestone_II/requirements.txt (line 26)) (3.4)\n",
      "Requirement already satisfied: isort==5.13.2 in /opt/homebrew/lib/python3.11/site-packages (from -r ../koigawa_milestone_II/requirements.txt (line 27)) (5.13.2)\n",
      "Requirement already satisfied: Jinja2==3.1.2 in /opt/homebrew/lib/python3.11/site-packages (from -r ../koigawa_milestone_II/requirements.txt (line 28)) (3.1.2)\n",
      "Requirement already satisfied: joblib==1.4.2 in /opt/homebrew/lib/python3.11/site-packages (from -r ../koigawa_milestone_II/requirements.txt (line 29)) (1.4.2)\n",
      "Requirement already satisfied: jsonschema==4.17.3 in /opt/homebrew/lib/python3.11/site-packages (from -r ../koigawa_milestone_II/requirements.txt (line 30)) (4.17.3)\n",
      "Requirement already satisfied: kiwisolver==1.4.4 in /opt/homebrew/lib/python3.11/site-packages (from -r ../koigawa_milestone_II/requirements.txt (line 31)) (1.4.4)\n",
      "Requirement already satisfied: langcodes==3.3.0 in /opt/homebrew/lib/python3.11/site-packages (from -r ../koigawa_milestone_II/requirements.txt (line 32)) (3.3.0)\n",
      "Requirement already satisfied: llvmlite==0.42.0 in /opt/homebrew/lib/python3.11/site-packages (from -r ../koigawa_milestone_II/requirements.txt (line 33)) (0.42.0)\n",
      "Requirement already satisfied: lxml==5.2.2 in /opt/homebrew/lib/python3.11/site-packages (from -r ../koigawa_milestone_II/requirements.txt (line 34)) (5.2.2)\n",
      "Requirement already satisfied: MarkupSafe==2.1.3 in /opt/homebrew/lib/python3.11/site-packages (from -r ../koigawa_milestone_II/requirements.txt (line 35)) (2.1.3)\n",
      "Requirement already satisfied: matplotlib==3.7.1 in /opt/homebrew/lib/python3.11/site-packages (from -r ../koigawa_milestone_II/requirements.txt (line 36)) (3.7.1)\n",
      "Requirement already satisfied: mccabe==0.7.0 in /opt/homebrew/lib/python3.11/site-packages (from -r ../koigawa_milestone_II/requirements.txt (line 37)) (0.7.0)\n",
      "Requirement already satisfied: mpmath==1.3.0 in /opt/homebrew/lib/python3.11/site-packages (from -r ../koigawa_milestone_II/requirements.txt (line 38)) (1.3.0)\n",
      "Requirement already satisfied: multitasking==0.0.11 in /opt/homebrew/lib/python3.11/site-packages (from -r ../koigawa_milestone_II/requirements.txt (line 39)) (0.0.11)\n",
      "Requirement already satisfied: murmurhash==1.0.9 in /opt/homebrew/lib/python3.11/site-packages (from -r ../koigawa_milestone_II/requirements.txt (line 40)) (1.0.9)\n",
      "Requirement already satisfied: networkx==3.2 in /opt/homebrew/lib/python3.11/site-packages (from -r ../koigawa_milestone_II/requirements.txt (line 41)) (3.2)\n",
      "Requirement already satisfied: np==1.0.2 in /opt/homebrew/lib/python3.11/site-packages (from -r ../koigawa_milestone_II/requirements.txt (line 42)) (1.0.2)\n",
      "Requirement already satisfied: numba==0.59.1 in /opt/homebrew/lib/python3.11/site-packages (from -r ../koigawa_milestone_II/requirements.txt (line 43)) (0.59.1)\n",
      "Requirement already satisfied: numpy==1.25.2 in /opt/homebrew/lib/python3.11/site-packages (from -r ../koigawa_milestone_II/requirements.txt (line 44)) (1.25.2)\n",
      "Requirement already satisfied: packaging==23.1 in /opt/homebrew/lib/python3.11/site-packages (from -r ../koigawa_milestone_II/requirements.txt (line 45)) (23.1)\n",
      "Requirement already satisfied: pandas==2.0.2 in /opt/homebrew/lib/python3.11/site-packages (from -r ../koigawa_milestone_II/requirements.txt (line 46)) (2.0.2)\n",
      "Requirement already satisfied: pathy==0.10.2 in /opt/homebrew/lib/python3.11/site-packages (from -r ../koigawa_milestone_II/requirements.txt (line 47)) (0.10.2)\n",
      "Requirement already satisfied: peewee==3.17.5 in /opt/homebrew/lib/python3.11/site-packages (from -r ../koigawa_milestone_II/requirements.txt (line 48)) (3.17.5)\n",
      "Requirement already satisfied: Pillow==9.5.0 in /opt/homebrew/lib/python3.11/site-packages (from -r ../koigawa_milestone_II/requirements.txt (line 49)) (9.5.0)\n",
      "Requirement already satisfied: platformdirs==4.2.0 in /opt/homebrew/lib/python3.11/site-packages (from -r ../koigawa_milestone_II/requirements.txt (line 50)) (4.2.0)\n",
      "Requirement already satisfied: pq==1.9.1 in /opt/homebrew/lib/python3.11/site-packages (from -r ../koigawa_milestone_II/requirements.txt (line 51)) (1.9.1)\n",
      "Requirement already satisfied: preshed==3.0.8 in /opt/homebrew/lib/python3.11/site-packages (from -r ../koigawa_milestone_II/requirements.txt (line 52)) (3.0.8)\n",
      "Requirement already satisfied: protobuf==4.23.4 in /opt/homebrew/lib/python3.11/site-packages (from -r ../koigawa_milestone_II/requirements.txt (line 53)) (4.23.4)\n",
      "Requirement already satisfied: psycopg==3.1.9 in /opt/homebrew/lib/python3.11/site-packages (from -r ../koigawa_milestone_II/requirements.txt (line 54)) (3.1.9)\n",
      "Requirement already satisfied: psycopg2-binary==2.9.6 in /opt/homebrew/lib/python3.11/site-packages (from -r ../koigawa_milestone_II/requirements.txt (line 55)) (2.9.6)\n",
      "Requirement already satisfied: pycodestyle==2.11.1 in /opt/homebrew/lib/python3.11/site-packages (from -r ../koigawa_milestone_II/requirements.txt (line 56)) (2.11.1)\n",
      "Requirement already satisfied: pydantic==1.10.10 in /opt/homebrew/lib/python3.11/site-packages (from -r ../koigawa_milestone_II/requirements.txt (line 57)) (1.10.10)\n",
      "Requirement already satisfied: pylint==3.1.0 in /opt/homebrew/lib/python3.11/site-packages (from -r ../koigawa_milestone_II/requirements.txt (line 58)) (3.1.0)\n",
      "Requirement already satisfied: pynndescent==0.5.12 in /opt/homebrew/lib/python3.11/site-packages (from -r ../koigawa_milestone_II/requirements.txt (line 59)) (0.5.12)\n",
      "Requirement already satisfied: pyparsing==3.1.0 in /opt/homebrew/lib/python3.11/site-packages (from -r ../koigawa_milestone_II/requirements.txt (line 60)) (3.1.0)\n",
      "Requirement already satisfied: pyrsistent==0.19.3 in /opt/homebrew/lib/python3.11/site-packages (from -r ../koigawa_milestone_II/requirements.txt (line 61)) (0.19.3)\n",
      "Requirement already satisfied: python-dateutil==2.8.2 in /opt/homebrew/lib/python3.11/site-packages (from -r ../koigawa_milestone_II/requirements.txt (line 62)) (2.8.2)\n",
      "Requirement already satisfied: pytz==2023.3 in /opt/homebrew/lib/python3.11/site-packages (from -r ../koigawa_milestone_II/requirements.txt (line 63)) (2023.3)\n",
      "Requirement already satisfied: requests==2.31.0 in /opt/homebrew/lib/python3.11/site-packages (from -r ../koigawa_milestone_II/requirements.txt (line 64)) (2.31.0)\n",
      "Requirement already satisfied: scikit-learn==1.5.0 in /opt/homebrew/lib/python3.11/site-packages (from -r ../koigawa_milestone_II/requirements.txt (line 65)) (1.5.0)\n",
      "Requirement already satisfied: scipy==1.13.1 in /opt/homebrew/lib/python3.11/site-packages (from -r ../koigawa_milestone_II/requirements.txt (line 66)) (1.13.1)\n",
      "Requirement already satisfied: seaborn==0.12.2 in /opt/homebrew/lib/python3.11/site-packages (from -r ../koigawa_milestone_II/requirements.txt (line 67)) (0.12.2)\n",
      "Requirement already satisfied: six==1.16.0 in /opt/homebrew/lib/python3.11/site-packages (from -r ../koigawa_milestone_II/requirements.txt (line 68)) (1.16.0)\n",
      "Requirement already satisfied: smart-open==6.3.0 in /opt/homebrew/lib/python3.11/site-packages (from -r ../koigawa_milestone_II/requirements.txt (line 69)) (6.3.0)\n",
      "Requirement already satisfied: soupsieve==2.5 in /opt/homebrew/lib/python3.11/site-packages (from -r ../koigawa_milestone_II/requirements.txt (line 70)) (2.5)\n",
      "Requirement already satisfied: spacey==0.1.1 in /opt/homebrew/lib/python3.11/site-packages (from -r ../koigawa_milestone_II/requirements.txt (line 71)) (0.1.1)\n",
      "Requirement already satisfied: spacy==3.7.5 in /opt/homebrew/lib/python3.11/site-packages (from -r ../koigawa_milestone_II/requirements.txt (line 72)) (3.7.5)\n",
      "Requirement already satisfied: spacy-legacy==3.0.12 in /opt/homebrew/lib/python3.11/site-packages (from -r ../koigawa_milestone_II/requirements.txt (line 73)) (3.0.12)\n",
      "Requirement already satisfied: spacy-loggers==1.0.4 in /opt/homebrew/lib/python3.11/site-packages (from -r ../koigawa_milestone_II/requirements.txt (line 74)) (1.0.4)\n",
      "Requirement already satisfied: srsly==2.4.8 in /opt/homebrew/lib/python3.11/site-packages (from -r ../koigawa_milestone_II/requirements.txt (line 75)) (2.4.8)\n",
      "Requirement already satisfied: sympy==1.12 in /opt/homebrew/lib/python3.11/site-packages (from -r ../koigawa_milestone_II/requirements.txt (line 76)) (1.12)\n",
      "Requirement already satisfied: thinc==8.2.3 in /opt/homebrew/lib/python3.11/site-packages (from -r ../koigawa_milestone_II/requirements.txt (line 77)) (8.2.3)\n",
      "Requirement already satisfied: thinc_apple_ops==0.1.5 in /opt/homebrew/lib/python3.11/site-packages (from -r ../koigawa_milestone_II/requirements.txt (line 78)) (0.1.5)\n",
      "Requirement already satisfied: threadpoolctl==3.5.0 in /opt/homebrew/lib/python3.11/site-packages (from -r ../koigawa_milestone_II/requirements.txt (line 79)) (3.5.0)\n",
      "Requirement already satisfied: tomlkit==0.12.4 in /opt/homebrew/lib/python3.11/site-packages (from -r ../koigawa_milestone_II/requirements.txt (line 80)) (0.12.4)\n",
      "Requirement already satisfied: toolz==0.12.0 in /opt/homebrew/lib/python3.11/site-packages (from -r ../koigawa_milestone_II/requirements.txt (line 81)) (0.12.0)\n",
      "Requirement already satisfied: torch==2.1.0 in /opt/homebrew/lib/python3.11/site-packages (from -r ../koigawa_milestone_II/requirements.txt (line 82)) (2.1.0)\n",
      "Requirement already satisfied: tqdm==4.65.0 in /opt/homebrew/lib/python3.11/site-packages (from -r ../koigawa_milestone_II/requirements.txt (line 83)) (4.65.0)\n",
      "Requirement already satisfied: typer==0.9.0 in /opt/homebrew/lib/python3.11/site-packages (from -r ../koigawa_milestone_II/requirements.txt (line 84)) (0.9.0)\n",
      "Requirement already satisfied: typing_extensions==4.7.0 in /opt/homebrew/lib/python3.11/site-packages (from -r ../koigawa_milestone_II/requirements.txt (line 85)) (4.7.0)\n",
      "Requirement already satisfied: tzdata==2023.3 in /opt/homebrew/lib/python3.11/site-packages (from -r ../koigawa_milestone_II/requirements.txt (line 86)) (2023.3)\n",
      "Requirement already satisfied: ujson==5.10.0 in /opt/homebrew/lib/python3.11/site-packages (from -r ../koigawa_milestone_II/requirements.txt (line 87)) (5.10.0)\n"
     ]
    },
    {
     "name": "stdout",
     "output_type": "stream",
     "text": [
      "Requirement already satisfied: umap-learn==0.5.2 in /opt/homebrew/lib/python3.11/site-packages (from -r ../koigawa_milestone_II/requirements.txt (line 88)) (0.5.2)\n",
      "Requirement already satisfied: urllib3==2.0.3 in /opt/homebrew/lib/python3.11/site-packages (from -r ../koigawa_milestone_II/requirements.txt (line 89)) (2.0.3)\n",
      "Requirement already satisfied: virtualenv==20.26.2 in /opt/homebrew/lib/python3.11/site-packages (from -r ../koigawa_milestone_II/requirements.txt (line 90)) (20.26.2)\n",
      "Requirement already satisfied: vl-convert-python==1.2.4 in /opt/homebrew/lib/python3.11/site-packages (from -r ../koigawa_milestone_II/requirements.txt (line 91)) (1.2.4)\n",
      "Requirement already satisfied: wasabi==1.1.2 in /opt/homebrew/lib/python3.11/site-packages (from -r ../koigawa_milestone_II/requirements.txt (line 92)) (1.1.2)\n",
      "Requirement already satisfied: weasel==0.3.4 in /opt/homebrew/lib/python3.11/site-packages (from -r ../koigawa_milestone_II/requirements.txt (line 93)) (0.3.4)\n",
      "Requirement already satisfied: webencodings==0.5.1 in /opt/homebrew/lib/python3.11/site-packages (from -r ../koigawa_milestone_II/requirements.txt (line 94)) (0.5.1)\n",
      "Requirement already satisfied: yfinance==0.2.40 in /opt/homebrew/lib/python3.11/site-packages (from -r ../koigawa_milestone_II/requirements.txt (line 95)) (0.2.40)\n",
      "Requirement already satisfied: setuptools in /opt/homebrew/lib/python3.11/site-packages (from spacy==3.7.5->-r ../koigawa_milestone_II/requirements.txt (line 72)) (70.1.0)\n"
     ]
    }
   ],
   "source": [
    "!pip install -r ../koigawa_milestone_II/requirements.txt\n",
    "\n",
    "import sys\n",
    "import os\n",
    "import pandas as pd\n",
    "from sklearn.svm import SVR\n",
    "import altair as alt\n",
    "import numpy as np\n",
    "from sklearn.metrics import mean_squared_error, r2_score\n",
    "from sklearn.pipeline import Pipeline\n",
    "from sklearn.preprocessing import StandardScaler\n",
    "import plotly.graph_objects as go\n",
    "\n",
    "# This will allow scripts from Carl's file to be imported\n",
    "sys.path.append(os.path.abspath('../cdebski_milestone_II'))\n",
    "\n",
    "from daily_stock_price import get_stock_prices\n",
    "from supervised_data_prep import pre_process_data, process_reddit_data, feature_selection"
   ]
  },
  {
   "cell_type": "code",
   "execution_count": 26,
   "id": "13fbfea2",
   "metadata": {},
   "outputs": [],
   "source": [
    "# Below is just extract from model comparison - for training data\n",
    "\n",
    "TICKER = 'GME'               \n",
    "\n",
    "df_communites = pd.read_csv('../koigawa_milestone_II/community_output_gme_train.csv')\n",
    "df_topics = pd.read_csv('../smoilanen_milestone_II/df_train.csv')\n",
    "\n",
    "MIN_DATE = df_communites['date'].min()[:10]\n",
    "MAX_DATE = df_communites['date'].max()[:10]\n",
    "df_prices = get_stock_prices(TICKER, start=MIN_DATE, end=MAX_DATE)\n",
    "\n",
    "df_pre_processed_train = pre_process_data(df_prices, df_communites, df_topics, MIN_DATE, MAX_DATE, TICKER, shift=1, rolling_avg=0, stock_price='log')\n",
    "\n",
    "# Feature selection based on the training data\n",
    "FEATURES = feature_selection(df_pre_processed_train, TICKER)[:10]\n"
   ]
  },
  {
   "cell_type": "code",
   "execution_count": 27,
   "id": "9fdc3521",
   "metadata": {},
   "outputs": [],
   "source": [
    "# Below is just extract from model comparison - for testing data\n",
    "\n",
    "TICKER = 'GME'               \n",
    "\n",
    "df_communites = pd.read_csv('../koigawa_milestone_II/community_output_gme_test.csv')\n",
    "df_topics = pd.read_csv('../smoilanen_milestone_II/df_test.csv')\n",
    "\n",
    "MIN_DATE = df_communites['date'].min()[:10]\n",
    "MAX_DATE = df_communites['date'].max()[:10]\n",
    "df_prices = get_stock_prices(TICKER, start=MIN_DATE, end=MAX_DATE)\n",
    "\n",
    "df_pre_processed_test = pre_process_data(df_prices, df_communites, df_topics, MIN_DATE, MAX_DATE, TICKER, shift=1, rolling_avg=0, stock_price='log')"
   ]
  },
  {
   "cell_type": "code",
   "execution_count": 28,
   "id": "d548fa67",
   "metadata": {},
   "outputs": [],
   "source": [
    "# Not all columns chosen in training will be present in test, so this creates common features\n",
    "\n",
    "MISSING_FEATURES = [feature for feature in FEATURES if feature not in df_pre_processed_test.columns]"
   ]
  },
  {
   "cell_type": "code",
   "execution_count": 30,
   "id": "d080c668",
   "metadata": {},
   "outputs": [
    {
     "data": {
      "text/plain": [
       "['Scriptophobic community talking about Meme & Photo Posts',\n",
       " 'Core, influential Redditors community talking about MOD (moderator) Announcements',\n",
       " 'Unpopular community talking about Brokerage Accounts_shift1',\n",
       " 'Scriptophobic community talking about The GME Short Squeeze',\n",
       " \"Unpopular community talking about Unity Amoung 'Apes'_shift1\",\n",
       " 'Unpopular community talking about Unclear Topic - Some posts about holding, FINRA, and a lot of external links_shift1',\n",
       " 'Unpopular community talking about MOD (moderator) Announcements',\n",
       " 'Scriptophobic community talking about Gamestop as a Business/Store_shift1',\n",
       " 'MOD (moderator) Announcements',\n",
       " 'Unpopular community talking about Regulatory Matters (Direct and Indirect)']"
      ]
     },
     "execution_count": 30,
     "metadata": {},
     "output_type": "execute_result"
    }
   ],
   "source": [
    "FEATURES"
   ]
  },
  {
   "cell_type": "code",
   "execution_count": 31,
   "id": "64fb65bd",
   "metadata": {},
   "outputs": [],
   "source": [
    "MISSING_FEATURES\n",
    "\n",
    "for missing in MISSING_FEATURES:\n",
    "    df_pre_processed_test[missing] = 0"
   ]
  },
  {
   "cell_type": "code",
   "execution_count": 33,
   "id": "4c14642a",
   "metadata": {},
   "outputs": [],
   "source": [
    "df_pre_processed_test.set_index('date',inplace=True)\n",
    "\n",
    "X_test = df_pre_processed_test[FEATURES]\n",
    "y_test = df_pre_processed_test[TICKER]"
   ]
  },
  {
   "cell_type": "code",
   "execution_count": 34,
   "id": "86945299",
   "metadata": {},
   "outputs": [],
   "source": [
    "df_pre_processed_train.set_index('date',inplace=True)\n",
    "\n",
    "X_train = df_pre_processed_train[FEATURES]\n",
    "y_train = df_pre_processed_train[TICKER]"
   ]
  },
  {
   "cell_type": "code",
   "execution_count": 35,
   "id": "2999446a",
   "metadata": {},
   "outputs": [
    {
     "data": {
      "text/html": [
       "<div>\n",
       "<style scoped>\n",
       "    .dataframe tbody tr th:only-of-type {\n",
       "        vertical-align: middle;\n",
       "    }\n",
       "\n",
       "    .dataframe tbody tr th {\n",
       "        vertical-align: top;\n",
       "    }\n",
       "\n",
       "    .dataframe thead th {\n",
       "        text-align: right;\n",
       "    }\n",
       "</style>\n",
       "<table border=\"1\" class=\"dataframe\">\n",
       "  <thead>\n",
       "    <tr style=\"text-align: right;\">\n",
       "      <th></th>\n",
       "      <th>model</th>\n",
       "      <th>features</th>\n",
       "      <th>best_params</th>\n",
       "      <th>best_mse</th>\n",
       "    </tr>\n",
       "  </thead>\n",
       "  <tbody>\n",
       "    <tr>\n",
       "      <th>1</th>\n",
       "      <td>Support Vector (SVR)</td>\n",
       "      <td>Scriptophobic community talking about Meme &amp; P...</td>\n",
       "      <td>{'Support Vector (SVR)__C': 0.1, 'Support Vect...</td>\n",
       "      <td>0.015988</td>\n",
       "    </tr>\n",
       "  </tbody>\n",
       "</table>\n",
       "</div>"
      ],
      "text/plain": [
       "                  model                                           features   \n",
       "1  Support Vector (SVR)  Scriptophobic community talking about Meme & P...  \\\n",
       "\n",
       "                                         best_params  best_mse  \n",
       "1  {'Support Vector (SVR)__C': 0.1, 'Support Vect...  0.015988  "
      ]
     },
     "execution_count": 35,
     "metadata": {},
     "output_type": "execute_result"
    }
   ],
   "source": [
    "best_params = pd.read_csv('../cdebski_milestone_II/results.csv')\n",
    "\n",
    "best_params = best_params[best_params.best_mse == best_params['best_mse'].min()]\n",
    "\n",
    "best_params"
   ]
  },
  {
   "cell_type": "code",
   "execution_count": 36,
   "id": "a6ab6d81",
   "metadata": {},
   "outputs": [
    {
     "data": {
      "text/plain": [
       "\"{'Support Vector (SVR)__C': 0.1, 'Support Vector (SVR)__gamma': 0.1, 'Support Vector (SVR)__kernel': 'rbf'}\""
      ]
     },
     "execution_count": 36,
     "metadata": {},
     "output_type": "execute_result"
    }
   ],
   "source": [
    "best_params.best_params.values[0]"
   ]
  },
  {
   "cell_type": "code",
   "execution_count": 37,
   "id": "7a5e2cc6",
   "metadata": {},
   "outputs": [
    {
     "data": {
      "text/html": [
       "<div>\n",
       "<style scoped>\n",
       "    .dataframe tbody tr th:only-of-type {\n",
       "        vertical-align: middle;\n",
       "    }\n",
       "\n",
       "    .dataframe tbody tr th {\n",
       "        vertical-align: top;\n",
       "    }\n",
       "\n",
       "    .dataframe thead th {\n",
       "        text-align: right;\n",
       "    }\n",
       "</style>\n",
       "<table border=\"1\" class=\"dataframe\">\n",
       "  <thead>\n",
       "    <tr style=\"text-align: right;\">\n",
       "      <th></th>\n",
       "      <th>x</th>\n",
       "      <th>y</th>\n",
       "      <th>mse</th>\n",
       "    </tr>\n",
       "  </thead>\n",
       "  <tbody>\n",
       "    <tr>\n",
       "      <th>0</th>\n",
       "      <td>0.01</td>\n",
       "      <td>0.010000</td>\n",
       "      <td>0.003248</td>\n",
       "    </tr>\n",
       "    <tr>\n",
       "      <th>0</th>\n",
       "      <td>0.01</td>\n",
       "      <td>0.016681</td>\n",
       "      <td>0.003254</td>\n",
       "    </tr>\n",
       "    <tr>\n",
       "      <th>0</th>\n",
       "      <td>0.01</td>\n",
       "      <td>0.027826</td>\n",
       "      <td>0.003284</td>\n",
       "    </tr>\n",
       "    <tr>\n",
       "      <th>0</th>\n",
       "      <td>0.01</td>\n",
       "      <td>0.046416</td>\n",
       "      <td>0.003280</td>\n",
       "    </tr>\n",
       "    <tr>\n",
       "      <th>0</th>\n",
       "      <td>0.01</td>\n",
       "      <td>0.077426</td>\n",
       "      <td>0.003370</td>\n",
       "    </tr>\n",
       "    <tr>\n",
       "      <th>...</th>\n",
       "      <td>...</td>\n",
       "      <td>...</td>\n",
       "      <td>...</td>\n",
       "    </tr>\n",
       "    <tr>\n",
       "      <th>0</th>\n",
       "      <td>1.00</td>\n",
       "      <td>0.129155</td>\n",
       "      <td>0.007201</td>\n",
       "    </tr>\n",
       "    <tr>\n",
       "      <th>0</th>\n",
       "      <td>1.00</td>\n",
       "      <td>0.215443</td>\n",
       "      <td>0.008302</td>\n",
       "    </tr>\n",
       "    <tr>\n",
       "      <th>0</th>\n",
       "      <td>1.00</td>\n",
       "      <td>0.359381</td>\n",
       "      <td>0.009066</td>\n",
       "    </tr>\n",
       "    <tr>\n",
       "      <th>0</th>\n",
       "      <td>1.00</td>\n",
       "      <td>0.599484</td>\n",
       "      <td>0.011369</td>\n",
       "    </tr>\n",
       "    <tr>\n",
       "      <th>0</th>\n",
       "      <td>1.00</td>\n",
       "      <td>1.000000</td>\n",
       "      <td>0.010377</td>\n",
       "    </tr>\n",
       "  </tbody>\n",
       "</table>\n",
       "<p>100 rows × 3 columns</p>\n",
       "</div>"
      ],
      "text/plain": [
       "       x         y       mse\n",
       "0   0.01  0.010000  0.003248\n",
       "0   0.01  0.016681  0.003254\n",
       "0   0.01  0.027826  0.003284\n",
       "0   0.01  0.046416  0.003280\n",
       "0   0.01  0.077426  0.003370\n",
       "..   ...       ...       ...\n",
       "0   1.00  0.129155  0.007201\n",
       "0   1.00  0.215443  0.008302\n",
       "0   1.00  0.359381  0.009066\n",
       "0   1.00  0.599484  0.011369\n",
       "0   1.00  1.000000  0.010377\n",
       "\n",
       "[100 rows x 3 columns]"
      ]
     },
     "execution_count": 37,
     "metadata": {},
     "output_type": "execute_result"
    }
   ],
   "source": [
    "c_values = np.logspace(-2, 0, 10)  \n",
    "gamma_values = np.logspace(-2, 0, 10)\n",
    "\n",
    "df_params = pd.DataFrame(columns=['x', 'y'])\n",
    "\n",
    "for c in c_values:\n",
    "    for gamma in gamma_values:\n",
    "        \n",
    "        pipeline = Pipeline([\n",
    "            ('scaler', StandardScaler()),\n",
    "            ('svr', SVR())])\n",
    "\n",
    "        \n",
    "        y_predict = pipeline.set_params(svr__C=c,svr__gamma=gamma).fit(X_train, y_train).predict(X_test)\n",
    "        mse = mean_squared_error(y_predict,y_test)\n",
    "        \n",
    "        temp_df = pd.DataFrame({'x': [c], 'y': [gamma],'mse':[mse]})\n",
    "        df_params = pd.concat([df_params,temp_df])\n",
    "        \n",
    "df_params"
   ]
  },
  {
   "cell_type": "code",
   "execution_count": 38,
   "id": "71413a1b",
   "metadata": {},
   "outputs": [
    {
     "data": {
      "application/vnd.plotly.v1+json": {
       "config": {
        "plotlyServerURL": "https://plot.ly"
       },
       "data": [
        {
         "type": "surface",
         "x": [
          0.01,
          0.016681005372000592,
          0.027825594022071243,
          0.046415888336127774,
          0.0774263682681127,
          0.1291549665014884,
          0.21544346900318834,
          0.3593813663804626,
          0.5994842503189409,
          1
         ],
         "y": [
          0.01,
          0.016681005372000592,
          0.027825594022071243,
          0.046415888336127774,
          0.0774263682681127,
          0.1291549665014884,
          0.21544346900318834,
          0.3593813663804626,
          0.5994842503189409,
          1
         ],
         "z": [
          [
           0.0032477387921048986,
           0.003260056888496481,
           0.0032809902860726978,
           0.0032729171165677582,
           0.0032894093682301544,
           0.0033135890571833124,
           0.003283349507860572,
           0.003468163812950236,
           0.0036663468539054854,
           0.0038148447810447293
          ],
          [
           0.0032538636555467402,
           0.0032841607815667162,
           0.003262836740975564,
           0.0032595899805082243,
           0.0033328125309507947,
           0.003349871120570115,
           0.003330022237063239,
           0.003679460761056385,
           0.0038363190394518206,
           0.004430663501399989
          ],
          [
           0.003284118101766231,
           0.0032751512565223472,
           0.0032680743543556266,
           0.003316293577234619,
           0.003381791859611944,
           0.0033295822656988177,
           0.0036596116306435965,
           0.003832408844474653,
           0.004525422366674428,
           0.004700784558341818
          ],
          [
           0.0032803308786247226,
           0.003331467165811476,
           0.003303573586162726,
           0.0033746451198392578,
           0.003484917990530102,
           0.00367154904591209,
           0.003874437913310911,
           0.0045378175131894375,
           0.005250375757182184,
           0.005719624488676485
          ],
          [
           0.00337037247153674,
           0.0033458445345312935,
           0.003363060001013615,
           0.0035579382856925526,
           0.003753856461473092,
           0.004132630998595912,
           0.004537944612824207,
           0.005711024735026859,
           0.006103376732979297,
           0.0072768145198198525
          ],
          [
           0.003458381670896278,
           0.0034642766710372003,
           0.0036963009868291883,
           0.0038763738611398138,
           0.004514666133434567,
           0.00494610840757324,
           0.005695188562560805,
           0.0073027489092838144,
           0.007249887979719073,
           0.007200951298824429
          ],
          [
           0.003645902621570202,
           0.0037570807153845774,
           0.004144734093612873,
           0.004534644935426973,
           0.005673863959873528,
           0.005712031218421131,
           0.0072964619425411594,
           0.007273253779454871,
           0.007867606237239519,
           0.008301795258286367
          ],
          [
           0.003812386504007508,
           0.00443701197238702,
           0.0046360707940862715,
           0.005869233489844848,
           0.0061311763896617286,
           0.007359187697035795,
           0.007372520885887416,
           0.00802280141465428,
           0.008123736547645604,
           0.009066122538271397
          ],
          [
           0.004459987560060558,
           0.004746110966380153,
           0.005940502012890616,
           0.006447263130678758,
           0.007367964636917596,
           0.007470918718629633,
           0.007517453742759567,
           0.007572280986406704,
           0.009029617509178668,
           0.011368921358952998
          ],
          [
           0.004588647327109015,
           0.005863485362315609,
           0.005981138084283722,
           0.006856137926028473,
           0.0074257298635218355,
           0.007414217787213901,
           0.0074311230143948095,
           0.007527985829016839,
           0.00930889061309449,
           0.010376570870359357
          ]
         ]
        }
       ],
       "layout": {
        "autosize": true,
        "height": 1000,
        "scene": {
         "xaxis": {
          "title": {
           "text": "C"
          }
         },
         "yaxis": {
          "title": {
           "text": "Gamma"
          }
         },
         "zaxis": {
          "title": {
           "text": "Mean Squared Error on Log Return"
          }
         }
        },
        "template": {
         "data": {
          "bar": [
           {
            "error_x": {
             "color": "#2a3f5f"
            },
            "error_y": {
             "color": "#2a3f5f"
            },
            "marker": {
             "line": {
              "color": "#E5ECF6",
              "width": 0.5
             },
             "pattern": {
              "fillmode": "overlay",
              "size": 10,
              "solidity": 0.2
             }
            },
            "type": "bar"
           }
          ],
          "barpolar": [
           {
            "marker": {
             "line": {
              "color": "#E5ECF6",
              "width": 0.5
             },
             "pattern": {
              "fillmode": "overlay",
              "size": 10,
              "solidity": 0.2
             }
            },
            "type": "barpolar"
           }
          ],
          "carpet": [
           {
            "aaxis": {
             "endlinecolor": "#2a3f5f",
             "gridcolor": "white",
             "linecolor": "white",
             "minorgridcolor": "white",
             "startlinecolor": "#2a3f5f"
            },
            "baxis": {
             "endlinecolor": "#2a3f5f",
             "gridcolor": "white",
             "linecolor": "white",
             "minorgridcolor": "white",
             "startlinecolor": "#2a3f5f"
            },
            "type": "carpet"
           }
          ],
          "choropleth": [
           {
            "colorbar": {
             "outlinewidth": 0,
             "ticks": ""
            },
            "type": "choropleth"
           }
          ],
          "contour": [
           {
            "colorbar": {
             "outlinewidth": 0,
             "ticks": ""
            },
            "colorscale": [
             [
              0,
              "#0d0887"
             ],
             [
              0.1111111111111111,
              "#46039f"
             ],
             [
              0.2222222222222222,
              "#7201a8"
             ],
             [
              0.3333333333333333,
              "#9c179e"
             ],
             [
              0.4444444444444444,
              "#bd3786"
             ],
             [
              0.5555555555555556,
              "#d8576b"
             ],
             [
              0.6666666666666666,
              "#ed7953"
             ],
             [
              0.7777777777777778,
              "#fb9f3a"
             ],
             [
              0.8888888888888888,
              "#fdca26"
             ],
             [
              1,
              "#f0f921"
             ]
            ],
            "type": "contour"
           }
          ],
          "contourcarpet": [
           {
            "colorbar": {
             "outlinewidth": 0,
             "ticks": ""
            },
            "type": "contourcarpet"
           }
          ],
          "heatmap": [
           {
            "colorbar": {
             "outlinewidth": 0,
             "ticks": ""
            },
            "colorscale": [
             [
              0,
              "#0d0887"
             ],
             [
              0.1111111111111111,
              "#46039f"
             ],
             [
              0.2222222222222222,
              "#7201a8"
             ],
             [
              0.3333333333333333,
              "#9c179e"
             ],
             [
              0.4444444444444444,
              "#bd3786"
             ],
             [
              0.5555555555555556,
              "#d8576b"
             ],
             [
              0.6666666666666666,
              "#ed7953"
             ],
             [
              0.7777777777777778,
              "#fb9f3a"
             ],
             [
              0.8888888888888888,
              "#fdca26"
             ],
             [
              1,
              "#f0f921"
             ]
            ],
            "type": "heatmap"
           }
          ],
          "heatmapgl": [
           {
            "colorbar": {
             "outlinewidth": 0,
             "ticks": ""
            },
            "colorscale": [
             [
              0,
              "#0d0887"
             ],
             [
              0.1111111111111111,
              "#46039f"
             ],
             [
              0.2222222222222222,
              "#7201a8"
             ],
             [
              0.3333333333333333,
              "#9c179e"
             ],
             [
              0.4444444444444444,
              "#bd3786"
             ],
             [
              0.5555555555555556,
              "#d8576b"
             ],
             [
              0.6666666666666666,
              "#ed7953"
             ],
             [
              0.7777777777777778,
              "#fb9f3a"
             ],
             [
              0.8888888888888888,
              "#fdca26"
             ],
             [
              1,
              "#f0f921"
             ]
            ],
            "type": "heatmapgl"
           }
          ],
          "histogram": [
           {
            "marker": {
             "pattern": {
              "fillmode": "overlay",
              "size": 10,
              "solidity": 0.2
             }
            },
            "type": "histogram"
           }
          ],
          "histogram2d": [
           {
            "colorbar": {
             "outlinewidth": 0,
             "ticks": ""
            },
            "colorscale": [
             [
              0,
              "#0d0887"
             ],
             [
              0.1111111111111111,
              "#46039f"
             ],
             [
              0.2222222222222222,
              "#7201a8"
             ],
             [
              0.3333333333333333,
              "#9c179e"
             ],
             [
              0.4444444444444444,
              "#bd3786"
             ],
             [
              0.5555555555555556,
              "#d8576b"
             ],
             [
              0.6666666666666666,
              "#ed7953"
             ],
             [
              0.7777777777777778,
              "#fb9f3a"
             ],
             [
              0.8888888888888888,
              "#fdca26"
             ],
             [
              1,
              "#f0f921"
             ]
            ],
            "type": "histogram2d"
           }
          ],
          "histogram2dcontour": [
           {
            "colorbar": {
             "outlinewidth": 0,
             "ticks": ""
            },
            "colorscale": [
             [
              0,
              "#0d0887"
             ],
             [
              0.1111111111111111,
              "#46039f"
             ],
             [
              0.2222222222222222,
              "#7201a8"
             ],
             [
              0.3333333333333333,
              "#9c179e"
             ],
             [
              0.4444444444444444,
              "#bd3786"
             ],
             [
              0.5555555555555556,
              "#d8576b"
             ],
             [
              0.6666666666666666,
              "#ed7953"
             ],
             [
              0.7777777777777778,
              "#fb9f3a"
             ],
             [
              0.8888888888888888,
              "#fdca26"
             ],
             [
              1,
              "#f0f921"
             ]
            ],
            "type": "histogram2dcontour"
           }
          ],
          "mesh3d": [
           {
            "colorbar": {
             "outlinewidth": 0,
             "ticks": ""
            },
            "type": "mesh3d"
           }
          ],
          "parcoords": [
           {
            "line": {
             "colorbar": {
              "outlinewidth": 0,
              "ticks": ""
             }
            },
            "type": "parcoords"
           }
          ],
          "pie": [
           {
            "automargin": true,
            "type": "pie"
           }
          ],
          "scatter": [
           {
            "fillpattern": {
             "fillmode": "overlay",
             "size": 10,
             "solidity": 0.2
            },
            "type": "scatter"
           }
          ],
          "scatter3d": [
           {
            "line": {
             "colorbar": {
              "outlinewidth": 0,
              "ticks": ""
             }
            },
            "marker": {
             "colorbar": {
              "outlinewidth": 0,
              "ticks": ""
             }
            },
            "type": "scatter3d"
           }
          ],
          "scattercarpet": [
           {
            "marker": {
             "colorbar": {
              "outlinewidth": 0,
              "ticks": ""
             }
            },
            "type": "scattercarpet"
           }
          ],
          "scattergeo": [
           {
            "marker": {
             "colorbar": {
              "outlinewidth": 0,
              "ticks": ""
             }
            },
            "type": "scattergeo"
           }
          ],
          "scattergl": [
           {
            "marker": {
             "colorbar": {
              "outlinewidth": 0,
              "ticks": ""
             }
            },
            "type": "scattergl"
           }
          ],
          "scattermapbox": [
           {
            "marker": {
             "colorbar": {
              "outlinewidth": 0,
              "ticks": ""
             }
            },
            "type": "scattermapbox"
           }
          ],
          "scatterpolar": [
           {
            "marker": {
             "colorbar": {
              "outlinewidth": 0,
              "ticks": ""
             }
            },
            "type": "scatterpolar"
           }
          ],
          "scatterpolargl": [
           {
            "marker": {
             "colorbar": {
              "outlinewidth": 0,
              "ticks": ""
             }
            },
            "type": "scatterpolargl"
           }
          ],
          "scatterternary": [
           {
            "marker": {
             "colorbar": {
              "outlinewidth": 0,
              "ticks": ""
             }
            },
            "type": "scatterternary"
           }
          ],
          "surface": [
           {
            "colorbar": {
             "outlinewidth": 0,
             "ticks": ""
            },
            "colorscale": [
             [
              0,
              "#0d0887"
             ],
             [
              0.1111111111111111,
              "#46039f"
             ],
             [
              0.2222222222222222,
              "#7201a8"
             ],
             [
              0.3333333333333333,
              "#9c179e"
             ],
             [
              0.4444444444444444,
              "#bd3786"
             ],
             [
              0.5555555555555556,
              "#d8576b"
             ],
             [
              0.6666666666666666,
              "#ed7953"
             ],
             [
              0.7777777777777778,
              "#fb9f3a"
             ],
             [
              0.8888888888888888,
              "#fdca26"
             ],
             [
              1,
              "#f0f921"
             ]
            ],
            "type": "surface"
           }
          ],
          "table": [
           {
            "cells": {
             "fill": {
              "color": "#EBF0F8"
             },
             "line": {
              "color": "white"
             }
            },
            "header": {
             "fill": {
              "color": "#C8D4E3"
             },
             "line": {
              "color": "white"
             }
            },
            "type": "table"
           }
          ]
         },
         "layout": {
          "annotationdefaults": {
           "arrowcolor": "#2a3f5f",
           "arrowhead": 0,
           "arrowwidth": 1
          },
          "autotypenumbers": "strict",
          "coloraxis": {
           "colorbar": {
            "outlinewidth": 0,
            "ticks": ""
           }
          },
          "colorscale": {
           "diverging": [
            [
             0,
             "#8e0152"
            ],
            [
             0.1,
             "#c51b7d"
            ],
            [
             0.2,
             "#de77ae"
            ],
            [
             0.3,
             "#f1b6da"
            ],
            [
             0.4,
             "#fde0ef"
            ],
            [
             0.5,
             "#f7f7f7"
            ],
            [
             0.6,
             "#e6f5d0"
            ],
            [
             0.7,
             "#b8e186"
            ],
            [
             0.8,
             "#7fbc41"
            ],
            [
             0.9,
             "#4d9221"
            ],
            [
             1,
             "#276419"
            ]
           ],
           "sequential": [
            [
             0,
             "#0d0887"
            ],
            [
             0.1111111111111111,
             "#46039f"
            ],
            [
             0.2222222222222222,
             "#7201a8"
            ],
            [
             0.3333333333333333,
             "#9c179e"
            ],
            [
             0.4444444444444444,
             "#bd3786"
            ],
            [
             0.5555555555555556,
             "#d8576b"
            ],
            [
             0.6666666666666666,
             "#ed7953"
            ],
            [
             0.7777777777777778,
             "#fb9f3a"
            ],
            [
             0.8888888888888888,
             "#fdca26"
            ],
            [
             1,
             "#f0f921"
            ]
           ],
           "sequentialminus": [
            [
             0,
             "#0d0887"
            ],
            [
             0.1111111111111111,
             "#46039f"
            ],
            [
             0.2222222222222222,
             "#7201a8"
            ],
            [
             0.3333333333333333,
             "#9c179e"
            ],
            [
             0.4444444444444444,
             "#bd3786"
            ],
            [
             0.5555555555555556,
             "#d8576b"
            ],
            [
             0.6666666666666666,
             "#ed7953"
            ],
            [
             0.7777777777777778,
             "#fb9f3a"
            ],
            [
             0.8888888888888888,
             "#fdca26"
            ],
            [
             1,
             "#f0f921"
            ]
           ]
          },
          "colorway": [
           "#636efa",
           "#EF553B",
           "#00cc96",
           "#ab63fa",
           "#FFA15A",
           "#19d3f3",
           "#FF6692",
           "#B6E880",
           "#FF97FF",
           "#FECB52"
          ],
          "font": {
           "color": "#2a3f5f"
          },
          "geo": {
           "bgcolor": "white",
           "lakecolor": "white",
           "landcolor": "#E5ECF6",
           "showlakes": true,
           "showland": true,
           "subunitcolor": "white"
          },
          "hoverlabel": {
           "align": "left"
          },
          "hovermode": "closest",
          "mapbox": {
           "style": "light"
          },
          "paper_bgcolor": "white",
          "plot_bgcolor": "#E5ECF6",
          "polar": {
           "angularaxis": {
            "gridcolor": "white",
            "linecolor": "white",
            "ticks": ""
           },
           "bgcolor": "#E5ECF6",
           "radialaxis": {
            "gridcolor": "white",
            "linecolor": "white",
            "ticks": ""
           }
          },
          "scene": {
           "xaxis": {
            "backgroundcolor": "#E5ECF6",
            "gridcolor": "white",
            "gridwidth": 2,
            "linecolor": "white",
            "showbackground": true,
            "ticks": "",
            "zerolinecolor": "white"
           },
           "yaxis": {
            "backgroundcolor": "#E5ECF6",
            "gridcolor": "white",
            "gridwidth": 2,
            "linecolor": "white",
            "showbackground": true,
            "ticks": "",
            "zerolinecolor": "white"
           },
           "zaxis": {
            "backgroundcolor": "#E5ECF6",
            "gridcolor": "white",
            "gridwidth": 2,
            "linecolor": "white",
            "showbackground": true,
            "ticks": "",
            "zerolinecolor": "white"
           }
          },
          "shapedefaults": {
           "line": {
            "color": "#2a3f5f"
           }
          },
          "ternary": {
           "aaxis": {
            "gridcolor": "white",
            "linecolor": "white",
            "ticks": ""
           },
           "baxis": {
            "gridcolor": "white",
            "linecolor": "white",
            "ticks": ""
           },
           "bgcolor": "#E5ECF6",
           "caxis": {
            "gridcolor": "white",
            "linecolor": "white",
            "ticks": ""
           }
          },
          "title": {
           "x": 0.05
          },
          "xaxis": {
           "automargin": true,
           "gridcolor": "white",
           "linecolor": "white",
           "ticks": "",
           "title": {
            "standoff": 15
           },
           "zerolinecolor": "white",
           "zerolinewidth": 2
          },
          "yaxis": {
           "automargin": true,
           "gridcolor": "white",
           "linecolor": "white",
           "ticks": "",
           "title": {
            "standoff": 15
           },
           "zerolinecolor": "white",
           "zerolinewidth": 2
          }
         }
        },
        "title": {
         "text": "Hyperparameter Tuning Result"
        },
        "width": 1000
       }
      },
      "text/html": [
       "<div>                            <div id=\"3a0fe9d5-ef28-4bb4-b15b-2e8e6be4a36b\" class=\"plotly-graph-div\" style=\"height:1000px; width:1000px;\"></div>            <script type=\"text/javascript\">                require([\"plotly\"], function(Plotly) {                    window.PLOTLYENV=window.PLOTLYENV || {};                                    if (document.getElementById(\"3a0fe9d5-ef28-4bb4-b15b-2e8e6be4a36b\")) {                    Plotly.newPlot(                        \"3a0fe9d5-ef28-4bb4-b15b-2e8e6be4a36b\",                        [{\"x\":[0.01,0.016681005372000592,0.027825594022071243,0.046415888336127774,0.0774263682681127,0.1291549665014884,0.21544346900318834,0.3593813663804626,0.5994842503189409,1.0],\"y\":[0.01,0.016681005372000592,0.027825594022071243,0.046415888336127774,0.0774263682681127,0.1291549665014884,0.21544346900318834,0.3593813663804626,0.5994842503189409,1.0],\"z\":[[0.0032477387921048986,0.003260056888496481,0.0032809902860726978,0.0032729171165677582,0.0032894093682301544,0.0033135890571833124,0.003283349507860572,0.003468163812950236,0.0036663468539054854,0.0038148447810447293],[0.0032538636555467402,0.0032841607815667162,0.003262836740975564,0.0032595899805082243,0.0033328125309507947,0.003349871120570115,0.003330022237063239,0.003679460761056385,0.0038363190394518206,0.004430663501399989],[0.003284118101766231,0.0032751512565223472,0.0032680743543556266,0.003316293577234619,0.003381791859611944,0.0033295822656988177,0.0036596116306435965,0.003832408844474653,0.004525422366674428,0.004700784558341818],[0.0032803308786247226,0.003331467165811476,0.003303573586162726,0.0033746451198392578,0.003484917990530102,0.00367154904591209,0.003874437913310911,0.0045378175131894375,0.005250375757182184,0.005719624488676485],[0.00337037247153674,0.0033458445345312935,0.003363060001013615,0.0035579382856925526,0.003753856461473092,0.004132630998595912,0.004537944612824207,0.005711024735026859,0.006103376732979297,0.0072768145198198525],[0.003458381670896278,0.0034642766710372003,0.0036963009868291883,0.0038763738611398138,0.004514666133434567,0.00494610840757324,0.005695188562560805,0.0073027489092838144,0.007249887979719073,0.007200951298824429],[0.003645902621570202,0.0037570807153845774,0.004144734093612873,0.004534644935426973,0.005673863959873528,0.005712031218421131,0.0072964619425411594,0.007273253779454871,0.007867606237239519,0.008301795258286367],[0.003812386504007508,0.00443701197238702,0.0046360707940862715,0.005869233489844848,0.0061311763896617286,0.007359187697035795,0.007372520885887416,0.00802280141465428,0.008123736547645604,0.009066122538271397],[0.004459987560060558,0.004746110966380153,0.005940502012890616,0.006447263130678758,0.007367964636917596,0.007470918718629633,0.007517453742759567,0.007572280986406704,0.009029617509178668,0.011368921358952998],[0.004588647327109015,0.005863485362315609,0.005981138084283722,0.006856137926028473,0.0074257298635218355,0.007414217787213901,0.0074311230143948095,0.007527985829016839,0.00930889061309449,0.010376570870359357]],\"type\":\"surface\"}],                        {\"template\":{\"data\":{\"histogram2dcontour\":[{\"type\":\"histogram2dcontour\",\"colorbar\":{\"outlinewidth\":0,\"ticks\":\"\"},\"colorscale\":[[0.0,\"#0d0887\"],[0.1111111111111111,\"#46039f\"],[0.2222222222222222,\"#7201a8\"],[0.3333333333333333,\"#9c179e\"],[0.4444444444444444,\"#bd3786\"],[0.5555555555555556,\"#d8576b\"],[0.6666666666666666,\"#ed7953\"],[0.7777777777777778,\"#fb9f3a\"],[0.8888888888888888,\"#fdca26\"],[1.0,\"#f0f921\"]]}],\"choropleth\":[{\"type\":\"choropleth\",\"colorbar\":{\"outlinewidth\":0,\"ticks\":\"\"}}],\"histogram2d\":[{\"type\":\"histogram2d\",\"colorbar\":{\"outlinewidth\":0,\"ticks\":\"\"},\"colorscale\":[[0.0,\"#0d0887\"],[0.1111111111111111,\"#46039f\"],[0.2222222222222222,\"#7201a8\"],[0.3333333333333333,\"#9c179e\"],[0.4444444444444444,\"#bd3786\"],[0.5555555555555556,\"#d8576b\"],[0.6666666666666666,\"#ed7953\"],[0.7777777777777778,\"#fb9f3a\"],[0.8888888888888888,\"#fdca26\"],[1.0,\"#f0f921\"]]}],\"heatmap\":[{\"type\":\"heatmap\",\"colorbar\":{\"outlinewidth\":0,\"ticks\":\"\"},\"colorscale\":[[0.0,\"#0d0887\"],[0.1111111111111111,\"#46039f\"],[0.2222222222222222,\"#7201a8\"],[0.3333333333333333,\"#9c179e\"],[0.4444444444444444,\"#bd3786\"],[0.5555555555555556,\"#d8576b\"],[0.6666666666666666,\"#ed7953\"],[0.7777777777777778,\"#fb9f3a\"],[0.8888888888888888,\"#fdca26\"],[1.0,\"#f0f921\"]]}],\"heatmapgl\":[{\"type\":\"heatmapgl\",\"colorbar\":{\"outlinewidth\":0,\"ticks\":\"\"},\"colorscale\":[[0.0,\"#0d0887\"],[0.1111111111111111,\"#46039f\"],[0.2222222222222222,\"#7201a8\"],[0.3333333333333333,\"#9c179e\"],[0.4444444444444444,\"#bd3786\"],[0.5555555555555556,\"#d8576b\"],[0.6666666666666666,\"#ed7953\"],[0.7777777777777778,\"#fb9f3a\"],[0.8888888888888888,\"#fdca26\"],[1.0,\"#f0f921\"]]}],\"contourcarpet\":[{\"type\":\"contourcarpet\",\"colorbar\":{\"outlinewidth\":0,\"ticks\":\"\"}}],\"contour\":[{\"type\":\"contour\",\"colorbar\":{\"outlinewidth\":0,\"ticks\":\"\"},\"colorscale\":[[0.0,\"#0d0887\"],[0.1111111111111111,\"#46039f\"],[0.2222222222222222,\"#7201a8\"],[0.3333333333333333,\"#9c179e\"],[0.4444444444444444,\"#bd3786\"],[0.5555555555555556,\"#d8576b\"],[0.6666666666666666,\"#ed7953\"],[0.7777777777777778,\"#fb9f3a\"],[0.8888888888888888,\"#fdca26\"],[1.0,\"#f0f921\"]]}],\"surface\":[{\"type\":\"surface\",\"colorbar\":{\"outlinewidth\":0,\"ticks\":\"\"},\"colorscale\":[[0.0,\"#0d0887\"],[0.1111111111111111,\"#46039f\"],[0.2222222222222222,\"#7201a8\"],[0.3333333333333333,\"#9c179e\"],[0.4444444444444444,\"#bd3786\"],[0.5555555555555556,\"#d8576b\"],[0.6666666666666666,\"#ed7953\"],[0.7777777777777778,\"#fb9f3a\"],[0.8888888888888888,\"#fdca26\"],[1.0,\"#f0f921\"]]}],\"mesh3d\":[{\"type\":\"mesh3d\",\"colorbar\":{\"outlinewidth\":0,\"ticks\":\"\"}}],\"scatter\":[{\"fillpattern\":{\"fillmode\":\"overlay\",\"size\":10,\"solidity\":0.2},\"type\":\"scatter\"}],\"parcoords\":[{\"type\":\"parcoords\",\"line\":{\"colorbar\":{\"outlinewidth\":0,\"ticks\":\"\"}}}],\"scatterpolargl\":[{\"type\":\"scatterpolargl\",\"marker\":{\"colorbar\":{\"outlinewidth\":0,\"ticks\":\"\"}}}],\"bar\":[{\"error_x\":{\"color\":\"#2a3f5f\"},\"error_y\":{\"color\":\"#2a3f5f\"},\"marker\":{\"line\":{\"color\":\"#E5ECF6\",\"width\":0.5},\"pattern\":{\"fillmode\":\"overlay\",\"size\":10,\"solidity\":0.2}},\"type\":\"bar\"}],\"scattergeo\":[{\"type\":\"scattergeo\",\"marker\":{\"colorbar\":{\"outlinewidth\":0,\"ticks\":\"\"}}}],\"scatterpolar\":[{\"type\":\"scatterpolar\",\"marker\":{\"colorbar\":{\"outlinewidth\":0,\"ticks\":\"\"}}}],\"histogram\":[{\"marker\":{\"pattern\":{\"fillmode\":\"overlay\",\"size\":10,\"solidity\":0.2}},\"type\":\"histogram\"}],\"scattergl\":[{\"type\":\"scattergl\",\"marker\":{\"colorbar\":{\"outlinewidth\":0,\"ticks\":\"\"}}}],\"scatter3d\":[{\"type\":\"scatter3d\",\"line\":{\"colorbar\":{\"outlinewidth\":0,\"ticks\":\"\"}},\"marker\":{\"colorbar\":{\"outlinewidth\":0,\"ticks\":\"\"}}}],\"scattermapbox\":[{\"type\":\"scattermapbox\",\"marker\":{\"colorbar\":{\"outlinewidth\":0,\"ticks\":\"\"}}}],\"scatterternary\":[{\"type\":\"scatterternary\",\"marker\":{\"colorbar\":{\"outlinewidth\":0,\"ticks\":\"\"}}}],\"scattercarpet\":[{\"type\":\"scattercarpet\",\"marker\":{\"colorbar\":{\"outlinewidth\":0,\"ticks\":\"\"}}}],\"carpet\":[{\"aaxis\":{\"endlinecolor\":\"#2a3f5f\",\"gridcolor\":\"white\",\"linecolor\":\"white\",\"minorgridcolor\":\"white\",\"startlinecolor\":\"#2a3f5f\"},\"baxis\":{\"endlinecolor\":\"#2a3f5f\",\"gridcolor\":\"white\",\"linecolor\":\"white\",\"minorgridcolor\":\"white\",\"startlinecolor\":\"#2a3f5f\"},\"type\":\"carpet\"}],\"table\":[{\"cells\":{\"fill\":{\"color\":\"#EBF0F8\"},\"line\":{\"color\":\"white\"}},\"header\":{\"fill\":{\"color\":\"#C8D4E3\"},\"line\":{\"color\":\"white\"}},\"type\":\"table\"}],\"barpolar\":[{\"marker\":{\"line\":{\"color\":\"#E5ECF6\",\"width\":0.5},\"pattern\":{\"fillmode\":\"overlay\",\"size\":10,\"solidity\":0.2}},\"type\":\"barpolar\"}],\"pie\":[{\"automargin\":true,\"type\":\"pie\"}]},\"layout\":{\"autotypenumbers\":\"strict\",\"colorway\":[\"#636efa\",\"#EF553B\",\"#00cc96\",\"#ab63fa\",\"#FFA15A\",\"#19d3f3\",\"#FF6692\",\"#B6E880\",\"#FF97FF\",\"#FECB52\"],\"font\":{\"color\":\"#2a3f5f\"},\"hovermode\":\"closest\",\"hoverlabel\":{\"align\":\"left\"},\"paper_bgcolor\":\"white\",\"plot_bgcolor\":\"#E5ECF6\",\"polar\":{\"bgcolor\":\"#E5ECF6\",\"angularaxis\":{\"gridcolor\":\"white\",\"linecolor\":\"white\",\"ticks\":\"\"},\"radialaxis\":{\"gridcolor\":\"white\",\"linecolor\":\"white\",\"ticks\":\"\"}},\"ternary\":{\"bgcolor\":\"#E5ECF6\",\"aaxis\":{\"gridcolor\":\"white\",\"linecolor\":\"white\",\"ticks\":\"\"},\"baxis\":{\"gridcolor\":\"white\",\"linecolor\":\"white\",\"ticks\":\"\"},\"caxis\":{\"gridcolor\":\"white\",\"linecolor\":\"white\",\"ticks\":\"\"}},\"coloraxis\":{\"colorbar\":{\"outlinewidth\":0,\"ticks\":\"\"}},\"colorscale\":{\"sequential\":[[0.0,\"#0d0887\"],[0.1111111111111111,\"#46039f\"],[0.2222222222222222,\"#7201a8\"],[0.3333333333333333,\"#9c179e\"],[0.4444444444444444,\"#bd3786\"],[0.5555555555555556,\"#d8576b\"],[0.6666666666666666,\"#ed7953\"],[0.7777777777777778,\"#fb9f3a\"],[0.8888888888888888,\"#fdca26\"],[1.0,\"#f0f921\"]],\"sequentialminus\":[[0.0,\"#0d0887\"],[0.1111111111111111,\"#46039f\"],[0.2222222222222222,\"#7201a8\"],[0.3333333333333333,\"#9c179e\"],[0.4444444444444444,\"#bd3786\"],[0.5555555555555556,\"#d8576b\"],[0.6666666666666666,\"#ed7953\"],[0.7777777777777778,\"#fb9f3a\"],[0.8888888888888888,\"#fdca26\"],[1.0,\"#f0f921\"]],\"diverging\":[[0,\"#8e0152\"],[0.1,\"#c51b7d\"],[0.2,\"#de77ae\"],[0.3,\"#f1b6da\"],[0.4,\"#fde0ef\"],[0.5,\"#f7f7f7\"],[0.6,\"#e6f5d0\"],[0.7,\"#b8e186\"],[0.8,\"#7fbc41\"],[0.9,\"#4d9221\"],[1,\"#276419\"]]},\"xaxis\":{\"gridcolor\":\"white\",\"linecolor\":\"white\",\"ticks\":\"\",\"title\":{\"standoff\":15},\"zerolinecolor\":\"white\",\"automargin\":true,\"zerolinewidth\":2},\"yaxis\":{\"gridcolor\":\"white\",\"linecolor\":\"white\",\"ticks\":\"\",\"title\":{\"standoff\":15},\"zerolinecolor\":\"white\",\"automargin\":true,\"zerolinewidth\":2},\"scene\":{\"xaxis\":{\"backgroundcolor\":\"#E5ECF6\",\"gridcolor\":\"white\",\"linecolor\":\"white\",\"showbackground\":true,\"ticks\":\"\",\"zerolinecolor\":\"white\",\"gridwidth\":2},\"yaxis\":{\"backgroundcolor\":\"#E5ECF6\",\"gridcolor\":\"white\",\"linecolor\":\"white\",\"showbackground\":true,\"ticks\":\"\",\"zerolinecolor\":\"white\",\"gridwidth\":2},\"zaxis\":{\"backgroundcolor\":\"#E5ECF6\",\"gridcolor\":\"white\",\"linecolor\":\"white\",\"showbackground\":true,\"ticks\":\"\",\"zerolinecolor\":\"white\",\"gridwidth\":2}},\"shapedefaults\":{\"line\":{\"color\":\"#2a3f5f\"}},\"annotationdefaults\":{\"arrowcolor\":\"#2a3f5f\",\"arrowhead\":0,\"arrowwidth\":1},\"geo\":{\"bgcolor\":\"white\",\"landcolor\":\"#E5ECF6\",\"subunitcolor\":\"white\",\"showland\":true,\"showlakes\":true,\"lakecolor\":\"white\"},\"title\":{\"x\":0.05},\"mapbox\":{\"style\":\"light\"}}},\"title\":{\"text\":\"Hyperparameter Tuning Result\"},\"autosize\":true,\"width\":1000,\"height\":1000,\"scene\":{\"xaxis\":{\"title\":{\"text\":\"C\"}},\"yaxis\":{\"title\":{\"text\":\"Gamma\"}},\"zaxis\":{\"title\":{\"text\":\"Mean Squared Error on Log Return\"}}}},                        {\"responsive\": true}                    ).then(function(){\n",
       "                            \n",
       "var gd = document.getElementById('3a0fe9d5-ef28-4bb4-b15b-2e8e6be4a36b');\n",
       "var x = new MutationObserver(function (mutations, observer) {{\n",
       "        var display = window.getComputedStyle(gd).display;\n",
       "        if (!display || display === 'none') {{\n",
       "            console.log([gd, 'removed!']);\n",
       "            Plotly.purge(gd);\n",
       "            observer.disconnect();\n",
       "        }}\n",
       "}});\n",
       "\n",
       "// Listen for the removal of the full notebook cells\n",
       "var notebookContainer = gd.closest('#notebook-container');\n",
       "if (notebookContainer) {{\n",
       "    x.observe(notebookContainer, {childList: true});\n",
       "}}\n",
       "\n",
       "// Listen for the clearing of the current output cell\n",
       "var outputEl = gd.closest('.output');\n",
       "if (outputEl) {{\n",
       "    x.observe(outputEl, {childList: true});\n",
       "}}\n",
       "\n",
       "                        })                };                });            </script>        </div>"
      ]
     },
     "metadata": {},
     "output_type": "display_data"
    }
   ],
   "source": [
    "z_p = []\n",
    "for i in np.unique(df_params.y):\n",
    "    z_p.append(df_params[df_params.y == i][\"mse\"].values)\n",
    "\n",
    "\n",
    "x_p = c_values\n",
    "y_p = gamma_values\n",
    "\n",
    "fig = go.Figure(data=[go.Surface(z=z_p, x=x_p, y=y_p)])\n",
    "\n",
    "fig.update_layout(\n",
    "    title=\"Hyperparameter Tuning Result\",\n",
    "    autosize=True,\n",
    "    width=1000,\n",
    "    height=1000,\n",
    "    scene=dict(\n",
    "        xaxis=dict(title=\"C\"),\n",
    "        yaxis=dict(title=\"Gamma\"),\n",
    "        zaxis=dict(title=\"Mean Squared Error on Log Return\"),\n",
    "    ),\n",
    ")\n",
    "\n",
    "fig.show()"
   ]
  }
 ],
 "metadata": {
  "kernelspec": {
   "display_name": "Python 3 (ipykernel)",
   "language": "python",
   "name": "python3"
  },
  "language_info": {
   "codemirror_mode": {
    "name": "ipython",
    "version": 3
   },
   "file_extension": ".py",
   "mimetype": "text/x-python",
   "name": "python",
   "nbconvert_exporter": "python",
   "pygments_lexer": "ipython3",
   "version": "3.10.4"
  }
 },
 "nbformat": 4,
 "nbformat_minor": 5
}
