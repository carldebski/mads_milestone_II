{
 "cells": [
  {
   "cell_type": "code",
   "execution_count": 1,
   "metadata": {},
   "outputs": [],
   "source": [
    "import pandas as pd\n",
    "import numpy as np \n",
    "import matplotlib.pyplot as plt\n",
    "import seaborn as sns\n",
    "import altair as alt\n",
    "from sklearn.linear_model import Ridge, Lasso, LinearRegression\n",
    "from sklearn.preprocessing import StandardScaler\n",
    "from sklearn.metrics import mean_squared_error, r2_score"
   ]
  },
  {
   "cell_type": "code",
   "execution_count": 3,
   "metadata": {},
   "outputs": [
    {
     "data": {
      "text/plain": [
       "0.6356480976029408"
      ]
     },
     "execution_count": 3,
     "metadata": {},
     "output_type": "execute_result"
    }
   ],
   "source": [
    "df_all = pd.read_csv('pre_processed_data_kento.csv')\n",
    "df_all['date'] = pd.to_datetime(df_all['date'])\n",
    "y = df_all['GME']\n",
    "X = df_all.copy().drop(columns=['GME', 'log_return', 'date'])\n",
    "\n",
    "from sklearn.model_selection import TimeSeriesSplit\n",
    "tscv = TimeSeriesSplit(n_splits=2)\n",
    "indices = np.arange(len(X))\n",
    "split_point = int(0.8 * len(indices))\n",
    "\n",
    "# Split the indices\n",
    "train_indices = indices[:split_point]\n",
    "test_indices = indices[split_point:]\n",
    "\n",
    "X_train, X_test = X.iloc[train_indices], X.iloc[test_indices]\n",
    "y_train, y_test = y.iloc[train_indices], y.iloc[test_indices]\n",
    "scaler_x = StandardScaler()\n",
    "scaler_y = StandardScaler()\n",
    "\n",
    "X_transformed = scaler_x.fit_transform(X_train)\n",
    "y_transformed = scaler_y.fit_transform(y_train.values.reshape(-1, 1))\n",
    "\n",
    "model = LinearRegression()\n",
    "model.fit(X_transformed, y_transformed)\n",
    "\n",
    "# using training data for training and predictions\n",
    "y_pred = model.predict(X_transformed)\n",
    "r2 = r2_score(y_transformed, y_pred)\n",
    "r2\n",
    "\n",
    "# using training data for training and test data for predictions \n",
    "# X_test_scaled = scaler_x.transform(X_test)\n",
    "# y_test_scaled = scaler_y.transform(y_test.values.reshape(-1,1))\n",
    "# y_pred = model.predict(X_test_scaled)\n",
    "# r2 = r2_score(y_test_scaled, y_pred)\n",
    "# r2"
   ]
  },
  {
   "cell_type": "code",
   "execution_count": null,
   "metadata": {},
   "outputs": [],
   "source": []
  }
 ],
 "metadata": {
  "kernelspec": {
   "display_name": "mads",
   "language": "python",
   "name": "python3"
  },
  "language_info": {
   "codemirror_mode": {
    "name": "ipython",
    "version": 3
   },
   "file_extension": ".py",
   "mimetype": "text/x-python",
   "name": "python",
   "nbconvert_exporter": "python",
   "pygments_lexer": "ipython3",
   "version": "3.12.3"
  }
 },
 "nbformat": 4,
 "nbformat_minor": 2
}
